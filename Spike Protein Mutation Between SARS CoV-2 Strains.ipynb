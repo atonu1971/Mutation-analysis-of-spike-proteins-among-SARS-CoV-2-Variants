{
 "cells": [
  {
   "cell_type": "code",
   "execution_count": 58,
   "id": "54b0aff4",
   "metadata": {},
   "outputs": [],
   "source": [
    "#The project was developed through jupyter interactive environment which is based on Python 3.\n",
    "#Jupyter notebook could be accessed through Anaconda navigator system. \n",
    "#More information can be found in https://docs.anaconda.com/anaconda/install/\n",
    "#Biopython package will be needed to handle this project. Install it if its not installed yet.\n",
    "#pip install biopython\n",
    "#jupyter notebook"
   ]
  },
  {
   "cell_type": "code",
   "execution_count": 59,
   "id": "be9026c8",
   "metadata": {},
   "outputs": [],
   "source": [
    "#To read and manipulate the sequences, seqIO should be imported. fasta file will be read through this sequences.\n",
    "\n",
    "from Bio import SeqIO"
   ]
  },
  {
   "cell_type": "code",
   "execution_count": 60,
   "id": "0d4e7d1e",
   "metadata": {},
   "outputs": [],
   "source": [
    "fasta = list(SeqIO.parse('seqs.fasta', format = 'fasta'))"
   ]
  },
  {
   "cell_type": "code",
   "execution_count": 61,
   "id": "2f6fd3fc",
   "metadata": {},
   "outputs": [
    {
     "data": {
      "text/plain": [
       "[SeqRecord(seq=Seq('ATTAAAGGTTTATACCTTCCCAGGTAACAAACCAACCAACTTTCGATCTCTTGT...AAA'), id='Wuhan_strain', name='Wuhan_strain', description='Wuhan_strain', dbxrefs=[]),\n",
       " SeqRecord(seq=Seq('AGATCTGTTCTCTAAACGAACTTTAAAATCTGTGTGGCTGTCACTCGGCTGCAT...TGA'), id='B.1.1.7|Alpha', name='B.1.1.7|Alpha', description='B.1.1.7|Alpha', dbxrefs=[]),\n",
       " SeqRecord(seq=Seq('ATTAAAGGTTTATACCTTCCCAGGTAACAAACCAACCAACTTTCGATCTCTTGT...AAA'), id='B.1.351|Beta', name='B.1.351|Beta', description='B.1.351|Beta', dbxrefs=[]),\n",
       " SeqRecord(seq=Seq('ATTAAAGGTTTATACCTTCCCAGGAAACAAACCAACCAACTTTCGATCTCTTGT...AAA'), id='P.1|Gamma', name='P.1|Gamma', description='P.1|Gamma', dbxrefs=[]),\n",
       " SeqRecord(seq=Seq('TTGTAGATCTGTTCTCTAAACGAACTTTAAAATCTGTGTGGCTGTCACTCGGCT...ATA'), id='B.1.617|Delta', name='B.1.617|Delta', description='B.1.617|Delta', dbxrefs=[]),\n",
       " SeqRecord(seq=Seq('AGATCTGTTCTCTAAACGAACTTTAAAATCTGTGTGGCTGTCACTCGGCTGCAT...GAA'), id='B.1.1.529|Omicron', name='B.1.1.529|Omicron', description='B.1.1.529|Omicron', dbxrefs=[])]"
      ]
     },
     "execution_count": 61,
     "metadata": {},
     "output_type": "execute_result"
    }
   ],
   "source": [
    "#fasta will show the list of contents \n",
    "fasta"
   ]
  },
  {
   "cell_type": "code",
   "execution_count": 62,
   "id": "72080566",
   "metadata": {},
   "outputs": [
    {
     "name": "stdout",
     "output_type": "stream",
     "text": [
      "Wuhan_strain\n",
      "B.1.1.7|Alpha\n",
      "B.1.351|Beta\n",
      "P.1|Gamma\n",
      "B.1.617|Delta\n",
      "B.1.1.529|Omicron\n"
     ]
    }
   ],
   "source": [
    "#All of the sequences name \n",
    "for entry in fasta:\n",
    "    print(entry.id)"
   ]
  },
  {
   "cell_type": "code",
   "execution_count": 63,
   "id": "a6ebd624",
   "metadata": {},
   "outputs": [],
   "source": [
    "#Making a dictionary for the sequences and make it a loop for the entry id \n",
    "seqs = {}\n",
    "for entry in fasta:\n",
    "    seqs[entry.id] = entry"
   ]
  },
  {
   "cell_type": "code",
   "execution_count": 64,
   "id": "a616f3f7",
   "metadata": {
    "scrolled": true
   },
   "outputs": [
    {
     "data": {
      "text/plain": [
       "SeqRecord(seq=Seq('ATTAAAGGTTTATACCTTCCCAGGTAACAAACCAACCAACTTTCGATCTCTTGT...AAA'), id='Wuhan_strain', name='Wuhan_strain', description='Wuhan_strain', dbxrefs=[])"
      ]
     },
     "execution_count": 64,
     "metadata": {},
     "output_type": "execute_result"
    }
   ],
   "source": [
    "seqs['Wuhan_strain']"
   ]
  },
  {
   "cell_type": "code",
   "execution_count": 65,
   "id": "c0295bef",
   "metadata": {},
   "outputs": [
    {
     "data": {
      "text/plain": [
       "Seq('ATTAAAGGTTTATACCTTCCCAGGTAACAAACCAACCAACTTTCGATCTCTTGT...AAA')"
      ]
     },
     "execution_count": 65,
     "metadata": {},
     "output_type": "execute_result"
    }
   ],
   "source": [
    "seqs['Wuhan_strain'].seq"
   ]
  },
  {
   "cell_type": "code",
   "execution_count": 66,
   "id": "f4769e20",
   "metadata": {},
   "outputs": [
    {
     "name": "stdout",
     "output_type": "stream",
     "text": [
      "29903\n",
      "29694\n",
      "29885\n",
      "29903\n",
      "29789\n",
      "29684\n"
     ]
    }
   ],
   "source": [
    "for entry in fasta:\n",
    "    print(len(entry.seq))"
   ]
  },
  {
   "cell_type": "code",
   "execution_count": 67,
   "id": "32a7c433",
   "metadata": {},
   "outputs": [
    {
     "name": "stdout",
     "output_type": "stream",
     "text": [
      "\n",
      "nseq =  6\n",
      "distance =  ktuples\n",
      "iterate =  0\n",
      "cycle =  2\n",
      "sparsepickup = 0\n",
      "nguidetree = 2\n",
      "nthread = 0\n",
      "sueff_global = 0.100000\n",
      "generating a scoring matrix for nucleotide (dist=200) ... done\n",
      "done\n",
      "done\n",
      "scoremtx = -1\n",
      "Gap Penalty = -1.53, +0.00, +0.00\n",
      "\n",
      "tuplesize = 6, dorp = d\n",
      "\n",
      "\n",
      "Making a distance matrix ..\n",
      "\n",
      "There are 29 ambiguous characters.\n",
      "    1 / 6\n",
      "done.\n",
      "\n",
      "Constructing a UPGMA tree ... \n",
      "    0 / 6\n",
      "done.\n",
      "\n",
      "Progressive alignment 1/2... \n",
      "STEP     5 / 5 f\n",
      "done.\n",
      "\n",
      "Making a distance matrix from msa.. \n",
      "    0 / 6\n",
      "done.\n",
      "\n",
      "Constructing a UPGMA tree ... \n",
      "    0 / 6\n",
      "done.\n",
      "\n",
      "Progressive alignment 2/2... \n",
      "STEP     5 / 5 f\n",
      "done.\n",
      "\n",
      "disttbfast (nuc) Version 7.245 alg=A, model=DNA200 (2), 1.53 (4.59), -0.00 (-0.00), noshift, amax=0.0\n",
      "0 thread(s)\n",
      "\n",
      "\n",
      "Strategy:\n",
      " FFT-NS-2 (Fast but rough)\n",
      " Progressive method (guide trees were built 2 times.)\n",
      "\n",
      "If unsure which option to use, try 'mafft --auto input > output'.\n",
      "For more information, see 'mafft --help', 'mafft --man' and the mafft page.\n",
      "\n",
      "The default gap scoring scheme has been changed in version 7.110 (2013 Oct).\n",
      "It tends to insert more gaps into gap-rich regions than previous versions.\n",
      "To disable this change, add the --leavegappyregion option.\n",
      "\n"
     ]
    }
   ],
   "source": [
    "#The lengths are not identical. To align the sequences, we will use the command line aligner called mafft.\n",
    "#If not installed, install it.\n",
    "#conda install -c biocore mafft \n",
    "#Using mafft make a new aligned sequence file.\n",
    "!mafft seqs.fasta > seqs_ali.fasta"
   ]
  },
  {
   "cell_type": "code",
   "execution_count": 68,
   "id": "d6148fb0",
   "metadata": {},
   "outputs": [],
   "source": [
    "fasta = list(SeqIO.parse('seqs_ali.fasta', format = 'fasta'))"
   ]
  },
  {
   "cell_type": "code",
   "execution_count": 69,
   "id": "375ce085",
   "metadata": {},
   "outputs": [
    {
     "name": "stdout",
     "output_type": "stream",
     "text": [
      "Wuhan_strain\n",
      "B.1.1.7|Alpha\n",
      "B.1.351|Beta\n",
      "P.1|Gamma\n",
      "B.1.617|Delta\n",
      "B.1.1.529|Omicron\n"
     ]
    }
   ],
   "source": [
    "for entry in fasta:\n",
    "    print(entry.id)"
   ]
  },
  {
   "cell_type": "code",
   "execution_count": 70,
   "id": "ad9715ce",
   "metadata": {},
   "outputs": [],
   "source": [
    "seqs = {}\n",
    "for entry in fasta:\n",
    "    seqs[entry.id] = entry"
   ]
  },
  {
   "cell_type": "code",
   "execution_count": 71,
   "id": "cb56ff44",
   "metadata": {},
   "outputs": [
    {
     "data": {
      "text/plain": [
       "SeqRecord(seq=Seq('attaaaggtttataccttcccaggtaacaaaccaaccaactttcgatctcttgt...aaa'), id='Wuhan_strain', name='Wuhan_strain', description='Wuhan_strain', dbxrefs=[])"
      ]
     },
     "execution_count": 71,
     "metadata": {},
     "output_type": "execute_result"
    }
   ],
   "source": [
    "seqs['Wuhan_strain']"
   ]
  },
  {
   "cell_type": "code",
   "execution_count": 72,
   "id": "e45bde6d",
   "metadata": {},
   "outputs": [
    {
     "data": {
      "text/plain": [
       "Seq('attaaaggtttataccttcccaggtaacaaaccaaccaactttcgatctcttgt...aaa')"
      ]
     },
     "execution_count": 72,
     "metadata": {},
     "output_type": "execute_result"
    }
   ],
   "source": [
    "seqs['Wuhan_strain'].seq"
   ]
  },
  {
   "cell_type": "code",
   "execution_count": 73,
   "id": "acea8a78",
   "metadata": {},
   "outputs": [
    {
     "name": "stdout",
     "output_type": "stream",
     "text": [
      "29912\n"
     ]
    }
   ],
   "source": [
    "    print(len(entry.seq))"
   ]
  },
  {
   "cell_type": "code",
   "execution_count": 74,
   "id": "801098d4",
   "metadata": {},
   "outputs": [],
   "source": [
    "#Spike protein coding region starts from 21563 to 25384\n",
    "#Function for the gapped region & loop over the nucleotides\n",
    "def gapped_pos(seq, pos):\n",
    "    non_gap = 0\n",
    "    gaps = 0\n",
    "    for nt in seq:\n",
    "        if nt != '-':\n",
    "            non_gap += 1\n",
    "        else:\n",
    "            gaps += 1\n",
    "        if non_gap == pos:\n",
    "            return pos + gaps"
   ]
  },
  {
   "cell_type": "code",
   "execution_count": 75,
   "id": "fdb9a394",
   "metadata": {},
   "outputs": [
    {
     "data": {
      "text/plain": [
       "21563"
      ]
     },
     "execution_count": 75,
     "metadata": {},
     "output_type": "execute_result"
    }
   ],
   "source": [
    "gapped_pos(seqs['Wuhan_strain'].seq, 21563)"
   ]
  },
  {
   "cell_type": "code",
   "execution_count": 76,
   "id": "3e1f0b70",
   "metadata": {},
   "outputs": [
    {
     "data": {
      "text/plain": [
       "25393"
      ]
     },
     "execution_count": 76,
     "metadata": {},
     "output_type": "execute_result"
    }
   ],
   "source": [
    "gapped_pos(seqs['Wuhan_strain'].seq, 25384)"
   ]
  },
  {
   "cell_type": "code",
   "execution_count": 77,
   "id": "c06941b9",
   "metadata": {},
   "outputs": [],
   "source": [
    "#Dictionary for spike protein coding gene \n",
    "spikes = {}\n",
    "for seq in fasta:\n",
    "    spikes[seq.id] = seq.seq[21563-1:25393]"
   ]
  },
  {
   "cell_type": "code",
   "execution_count": 78,
   "id": "c5ef2e21",
   "metadata": {},
   "outputs": [
    {
     "name": "stdout",
     "output_type": "stream",
     "text": [
      "atgtttgttt\n",
      "atgtttgttt\n",
      "atgtttgttt\n",
      "atgtttgttt\n",
      "atgtttgttt\n",
      "atgtttgttt\n"
     ]
    }
   ],
   "source": [
    "#Double check the alignments and new dictionary. \n",
    "for spike in spikes:\n",
    "    print(spikes[spike][0:10])"
   ]
  },
  {
   "cell_type": "code",
   "execution_count": 79,
   "id": "8cc7d85d",
   "metadata": {},
   "outputs": [],
   "source": [
    "# Comparing two sequences and finding out the mutations\n",
    "\"\"\"In this case, new function will zip the initial reference sequences and the corresponding variant sequences \n",
    "together into a new object called seqs. This will make a list of tuples and that list of tuples will be looped over.\n",
    "\"\"\"\n",
    "def get_mutations(initial, variant):\n",
    "    seqs = list(zip(initial, variant))\n",
    "    for pos, nt in enumerate(seqs):\n",
    "        if nt[0] != nt[1]:\n",
    "            print(nt[0].upper() + str(pos) + nt[1].upper())"
   ]
  },
  {
   "cell_type": "code",
   "execution_count": 80,
   "id": "8786bc43",
   "metadata": {},
   "outputs": [
    {
     "name": "stdout",
     "output_type": "stream",
     "text": [
      "T202-\n",
      "A203-\n",
      "C204-\n",
      "A205-\n",
      "T206-\n",
      "G207-\n",
      "T428-\n",
      "T429-\n",
      "A430-\n",
      "A1509T\n",
      "C1717A\n",
      "A1849G\n",
      "C2050A\n",
      "C2155T\n",
      "T2952G\n",
      "G3360C\n"
     ]
    }
   ],
   "source": [
    "get_mutations(spikes['Wuhan_strain'], spikes['B.1.1.7|Alpha'])"
   ]
  },
  {
   "cell_type": "code",
   "execution_count": 81,
   "id": "b277047c",
   "metadata": {},
   "outputs": [
    {
     "name": "stdout",
     "output_type": "stream",
     "text": [
      "C199T\n",
      "T202-\n",
      "A203-\n",
      "C204-\n",
      "A205-\n",
      "T206-\n",
      "G207-\n",
      "C283T\n",
      "G424-\n",
      "T425-\n",
      "G426-\n",
      "T427-\n",
      "T428-\n",
      "T429-\n",
      "A430-\n",
      "T431-\n",
      "T432-\n",
      "A631-\n",
      "T632-\n",
      "T633-\n",
      "-642G\n",
      "-643A\n",
      "-644G\n",
      "-645C\n",
      "-646C\n",
      "-647A\n",
      "-648G\n",
      "-649A\n",
      "-650A\n",
      "G1024A\n",
      "T1119C\n",
      "C1120T\n",
      "T1125C\n",
      "C1132T\n",
      "G1259T\n",
      "T1328G\n",
      "G1344A\n",
      "G1438A\n",
      "C1441A\n",
      "A1459C\n",
      "A1486G\n",
      "G1494A\n",
      "A1501G\n",
      "A1509T\n",
      "T1521C\n",
      "C1648A\n",
      "A1849G\n",
      "C1971T\n",
      "T2045G\n",
      "C2050A\n",
      "C2300A\n",
      "G2394T\n",
      "C2576A\n",
      "A2870T\n",
      "T2915A\n",
      "C2949T\n",
      "C3446T\n"
     ]
    }
   ],
   "source": [
    "get_mutations(spikes['Wuhan_strain'], spikes['B.1.1.529|Omicron'])"
   ]
  },
  {
   "cell_type": "code",
   "execution_count": 82,
   "id": "ac64568b",
   "metadata": {},
   "outputs": [],
   "source": [
    "#Getting rid of the nucleotides\n",
    "\"\"\"Using the translate function of Biopython to convert the nucleotides to amino acid sequences\n",
    "\"\"\"\n",
    "with open('spikes.fasta', 'w') as f:\n",
    "    for spike in spikes:\n",
    "        out = spikes[spike].replace('-', '').translate()\n",
    "        f.write('>' + spike + '\\n')\n",
    "        f.write(str(out).upper()+'\\n')"
   ]
  },
  {
   "cell_type": "code",
   "execution_count": 83,
   "id": "fea72a0f",
   "metadata": {},
   "outputs": [
    {
     "name": "stdout",
     "output_type": "stream",
     "text": [
      "Proposal.md\r\n",
      "README.md\r\n",
      "Spike Protein Mutation Between SARS CoV-2 Strains.ipynb\r\n",
      "output_38_0.png\r\n",
      "seqs.fasta\r\n",
      "seqs_ali.fasta\r\n",
      "spikes.fasta\r\n",
      "spikes_ali.fasta\r\n"
     ]
    }
   ],
   "source": [
    "!ls"
   ]
  },
  {
   "cell_type": "code",
   "execution_count": 84,
   "id": "9b3d41da",
   "metadata": {},
   "outputs": [
    {
     "name": "stdout",
     "output_type": "stream",
     "text": [
      "\n",
      "nseq =  6\n",
      "distance =  ktuples\n",
      "iterate =  0\n",
      "cycle =  2\n",
      "sparsepickup = 0\n",
      "nguidetree = 2\n",
      "nthread = 0\n",
      "sueff_global = 0.100000\n",
      "done.\n",
      "scoremtx = 1\n",
      "Gap Penalty = -1.53, +0.00, +0.00\n",
      "\n",
      "tuplesize = 6, dorp = p\n",
      "\n",
      "\n",
      "Making a distance matrix ..\n",
      "    1 / 6\n",
      "done.\n",
      "\n",
      "Constructing a UPGMA tree ... \n",
      "    0 / 6\n",
      "done.\n",
      "\n",
      "Progressive alignment 1/2... \n",
      "STEP     5 / 5 f\n",
      "done.\n",
      "\n",
      "Making a distance matrix from msa.. \n",
      "    0 / 6\n",
      "done.\n",
      "\n",
      "Constructing a UPGMA tree ... \n",
      "    0 / 6\n",
      "done.\n",
      "\n",
      "Progressive alignment 2/2... \n",
      "STEP     5 / 5 f\n",
      "done.\n",
      "\n",
      "disttbfast (aa) Version 7.245 alg=A, model=BLOSUM62, 1.53, -0.00, -0.00, noshift, amax=0.0\n",
      "0 thread(s)\n",
      "\n",
      "\n",
      "Strategy:\n",
      " FFT-NS-2 (Fast but rough)\n",
      " Progressive method (guide trees were built 2 times.)\n",
      "\n",
      "If unsure which option to use, try 'mafft --auto input > output'.\n",
      "For more information, see 'mafft --help', 'mafft --man' and the mafft page.\n",
      "\n",
      "The default gap scoring scheme has been changed in version 7.110 (2013 Oct).\n",
      "It tends to insert more gaps into gap-rich regions than previous versions.\n",
      "To disable this change, add the --leavegappyregion option.\n",
      "\n"
     ]
    }
   ],
   "source": [
    "#aligning amino acid sequences\n",
    "!mafft spikes.fasta > spikes_ali.fasta"
   ]
  },
  {
   "cell_type": "code",
   "execution_count": 85,
   "id": "bed0747a",
   "metadata": {},
   "outputs": [],
   "source": [
    "spikes_aa = list(SeqIO.parse('spikes_ali.fasta', format = 'fasta'))"
   ]
  },
  {
   "cell_type": "code",
   "execution_count": 86,
   "id": "e3846adf",
   "metadata": {},
   "outputs": [
    {
     "data": {
      "text/plain": [
       "[SeqRecord(seq=Seq('MFVFLVLLPLVSSQCVNLTTRTQLPPAYTNSFTRGVYYPDKVFRSSVLHSTQDL...HYT'), id='Wuhan_strain', name='Wuhan_strain', description='Wuhan_strain', dbxrefs=[]),\n",
       " SeqRecord(seq=Seq('MFVFLVLLPLVSSQCVNLTTRTQLPPAYTNSFTRGVYYPDKVFRSSVLHSTQDL...HYT'), id='B.1.1.7|Alpha', name='B.1.1.7|Alpha', description='B.1.1.7|Alpha', dbxrefs=[]),\n",
       " SeqRecord(seq=Seq('MFVFLVLLPLVSSQCVNLTTRTQLPPAYTNSFTRGVYYPDKVFRSSVLHSTQDL...HYT'), id='B.1.351|Beta', name='B.1.351|Beta', description='B.1.351|Beta', dbxrefs=[]),\n",
       " SeqRecord(seq=Seq('MFVFLVLLPLVSSQCVNFTNRTQLPSAYTNSFTRGVYYPDKVFRSSVLHSTQDL...HYT'), id='P.1|Gamma', name='P.1|Gamma', description='P.1|Gamma', dbxrefs=[]),\n",
       " SeqRecord(seq=Seq('MFVFLVLLPLVSSQCVNLRTRTQLPPAYTNSFTRGVYYPDKVFRSSVLHSTQDL...HYT'), id='B.1.617|Delta', name='B.1.617|Delta', description='B.1.617|Delta', dbxrefs=[]),\n",
       " SeqRecord(seq=Seq('MFVFLVLLPLVSSQCVNLTTRTQLPPAYTNSFTRGVYYPDKVFRSSVLHSTQDL...HYT'), id='B.1.1.529|Omicron', name='B.1.1.529|Omicron', description='B.1.1.529|Omicron', dbxrefs=[])]"
      ]
     },
     "execution_count": 86,
     "metadata": {},
     "output_type": "execute_result"
    }
   ],
   "source": [
    "spikes_aa"
   ]
  },
  {
   "cell_type": "code",
   "execution_count": 87,
   "id": "7a43e4a7",
   "metadata": {},
   "outputs": [],
   "source": [
    "seqs = {}\n",
    "for entry in spikes_aa:\n",
    "    seqs[entry.id] = entry.seq"
   ]
  },
  {
   "cell_type": "code",
   "execution_count": 88,
   "id": "4242d51a",
   "metadata": {},
   "outputs": [
    {
     "data": {
      "text/plain": [
       "Seq('MFVFLVLLPLVSSQCVNLTTRTQLPPAYTNSFTRGVYYPDKVFRSSVLHSTQDL...HYT')"
      ]
     },
     "execution_count": 88,
     "metadata": {},
     "output_type": "execute_result"
    }
   ],
   "source": [
    "seqs['Wuhan_strain']"
   ]
  },
  {
   "cell_type": "code",
   "execution_count": 89,
   "id": "83781482",
   "metadata": {},
   "outputs": [],
   "source": [
    "#Using the same nucleotide mutation functional arguements getting a list for the mutation\n",
    "\n",
    "def get_aa_mutations(initial, variant):\n",
    "    out = []\n",
    "    seqs = list(zip(initial, variant))\n",
    "    for pos, aa in enumerate(seqs):\n",
    "        if aa[0] != aa[1]:\n",
    "            out.append(aa[0].upper() + str(pos) + aa[1].upper())\n",
    "    return out"
   ]
  },
  {
   "cell_type": "code",
   "execution_count": 90,
   "id": "f489b07f",
   "metadata": {},
   "outputs": [
    {
     "data": {
      "text/plain": [
       "10"
      ]
     },
     "execution_count": 90,
     "metadata": {},
     "output_type": "execute_result"
    }
   ],
   "source": [
    "len(get_aa_mutations(seqs['Wuhan_strain'], seqs['B.1.617|Delta']))"
   ]
  },
  {
   "cell_type": "code",
   "execution_count": 91,
   "id": "9312c795",
   "metadata": {},
   "outputs": [
    {
     "data": {
      "text/plain": [
       "39"
      ]
     },
     "execution_count": 91,
     "metadata": {},
     "output_type": "execute_result"
    }
   ],
   "source": [
    "len(get_aa_mutations(seqs['Wuhan_strain'], seqs['B.1.1.529|Omicron']))"
   ]
  },
  {
   "cell_type": "code",
   "execution_count": 92,
   "id": "1703422d",
   "metadata": {},
   "outputs": [
    {
     "data": {
      "text/plain": [
       "['A66V',\n",
       " 'H68-',\n",
       " 'V69-',\n",
       " 'T94I',\n",
       " 'G141D',\n",
       " 'V142-',\n",
       " 'Y143-',\n",
       " 'Y144-',\n",
       " 'N210-',\n",
       " 'L211I',\n",
       " '-214E',\n",
       " '-215P',\n",
       " '-216E',\n",
       " 'G341D',\n",
       " 'S373L',\n",
       " 'S375P',\n",
       " 'S377F',\n",
       " 'K419N',\n",
       " 'N442K',\n",
       " 'G448S',\n",
       " 'S479N',\n",
       " 'T480K',\n",
       " 'E486A',\n",
       " 'Q495R',\n",
       " 'G498S',\n",
       " 'Q500R',\n",
       " 'N503Y',\n",
       " 'Y507H',\n",
       " 'T549K',\n",
       " 'D616G',\n",
       " 'H657Y',\n",
       " 'N681K',\n",
       " 'P683H',\n",
       " 'N766K',\n",
       " 'D798Y',\n",
       " 'N858K',\n",
       " 'Q956H',\n",
       " 'N971K',\n",
       " 'L983F']"
      ]
     },
     "execution_count": 92,
     "metadata": {},
     "output_type": "execute_result"
    }
   ],
   "source": [
    "get_aa_mutations(seqs['Wuhan_strain'], seqs['B.1.1.529|Omicron'])"
   ]
  },
  {
   "cell_type": "code",
   "execution_count": 93,
   "id": "fb9cc340",
   "metadata": {},
   "outputs": [
    {
     "name": "stdout",
     "output_type": "stream",
     "text": [
      "Wuhan_strain 0\n",
      "B.1.1.7|Alpha 10\n",
      "B.1.351|Beta 10\n",
      "P.1|Gamma 12\n",
      "B.1.617|Delta 10\n",
      "B.1.1.529|Omicron 39\n"
     ]
    }
   ],
   "source": [
    "#A list for each amino acid position mutation in each strains\n",
    "for item in seqs:\n",
    "    print(item + ' '+str(len(get_aa_mutations(seqs['Wuhan_strain'], seqs[item]))))"
   ]
  },
  {
   "cell_type": "code",
   "execution_count": 94,
   "id": "eef93335",
   "metadata": {},
   "outputs": [],
   "source": [
    "#Illustrating the difference\n",
    "#matplotlib will be installed if not\n",
    "#pip install matplotlib\n",
    "import matplotlib.pyplot as plt"
   ]
  },
  {
   "cell_type": "code",
   "execution_count": 95,
   "id": "a43eb384",
   "metadata": {},
   "outputs": [],
   "source": [
    "\"\"\"This will make a library of mutation the same way earlier part of this script worked.\n",
    "Mutated amino acid sequences will be ploted according to their position comparing to the \n",
    "reference genome. \n",
    "\"\"\"\n",
    "mutations = {}\n",
    "for item in seqs:\n",
    "    mutations[item] = get_aa_mutations(seqs['Wuhan_strain'], seqs[item])"
   ]
  },
  {
   "cell_type": "code",
   "execution_count": 96,
   "id": "13f89cd3",
   "metadata": {},
   "outputs": [
    {
     "data": {
      "image/png": "[encoded data removed]",
      "text/plain": [
       "<Figure size 1440x720 with 1 Axes>"
      ]
     },
     "metadata": {
      "needs_background": "light"
     },
     "output_type": "display_data"
    }
   ],
   "source": [
    "plt.figure(figsize = (20,10))\n",
    "for y, item in enumerate(seqs):\n",
    "    plt.plot((0,len(seqs['Wuhan_strain'])), (y,y), color = 'blue')\n",
    "    plt.text(-160, y+.5, item, va = 'center', ha = 'left')\n",
    "    \n",
    "    for yy, mutation in enumerate(mutations[item]):\n",
    "        pos = int(mutation[1:-1])\n",
    "        aa_change = mutation[-1]\n",
    "        if yy%3 == 0:\n",
    "            plt.text(pos, y-.2, aa_change, va = 'center', ha = 'center')\n",
    "        elif yy%2 == 0:\n",
    "            plt.text(pos, y, aa_change, va = 'center', ha = 'center')\n",
    "        else:\n",
    "            plt.text(pos, y+.2, aa_change, va = 'center', ha = 'center')\n",
    "    \n",
    "    plt.xlim(-175, len(seqs['Wuhan_strain']) + 100)\n",
    "    plt.ylim(-.75, 5.75)"
   ]
  },
  {
   "cell_type": "code",
   "execution_count": null,
   "id": "9656c9eb",
   "metadata": {},
   "outputs": [],
   "source": []
  }
 ],
 "metadata": {
  "kernelspec": {
   "display_name": "Python 3 (ipykernel)",
   "language": "python",
   "name": "python3"
  },
  "language_info": {
   "codemirror_mode": {
    "name": "ipython",
    "version": 3
   },
   "file_extension": ".py",
   "mimetype": "text/x-python",
   "name": "python",
   "nbconvert_exporter": "python",
   "pygments_lexer": "ipython3",
   "version": "3.9.7"
  }
 },
 "nbformat": 4,
 "nbformat_minor": 5
}
